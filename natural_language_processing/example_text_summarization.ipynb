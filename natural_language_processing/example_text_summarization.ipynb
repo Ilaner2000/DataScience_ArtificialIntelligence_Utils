{
 "cells": [
  {
   "cell_type": "markdown",
   "metadata": {},
   "source": [
    "# Natural Language Processing - Text Summarization example"
   ]
  },
  {
   "cell_type": "markdown",
   "metadata": {},
   "source": [
    "###### Links: [News Summary Dataset (Kaggle)](https://www.kaggle.com/pariza/bbc-news-summary)  |  [Article ()]()"
   ]
  },
  {
   "cell_type": "markdown",
   "metadata": {},
   "source": [
    "### 0 - Setup"
   ]
  },
  {
   "cell_type": "markdown",
   "metadata": {},
   "source": [
    "###### Import pckgs"
   ]
  },
  {
   "cell_type": "code",
   "execution_count": 1,
   "metadata": {},
   "outputs": [],
   "source": [
    "import warnings\n",
    "warnings.filterwarnings(\"ignore\")\n",
    "from nlp_utils import *"
   ]
  },
  {
   "cell_type": "markdown",
   "metadata": {},
   "source": [
    "###### Import data"
   ]
  },
  {
   "cell_type": "code",
   "execution_count": 2,
   "metadata": {},
   "outputs": [
    {
     "name": "stdout",
     "output_type": "stream",
     "text": [
      "error file: .DS_Store --> 'utf-8' codec can't decode byte 0xb0 in position 10: invalid start byte\n",
      "len: 2214\n"
     ]
    }
   ],
   "source": [
    "# Read files txt\n",
    "import os\n",
    "\n",
    "folder = \"data_summary/full_articles/\"\n",
    "full_articles = []\n",
    "for file in os.listdir(folder):\n",
    "    try:\n",
    "        txt = open(folder+file, \"r\")\n",
    "        full_articles.append(' '.join([i.strip() for i in txt.readlines()]))\n",
    "    except Exception as e:\n",
    "        print(\"error file:\", file, \"-->\", e)\n",
    "    \n",
    "print(\"len:\", len(full_articles))"
   ]
  },
  {
   "cell_type": "code",
   "execution_count": 3,
   "metadata": {},
   "outputs": [
    {
     "name": "stdout",
     "output_type": "stream",
     "text": [
      "error file: .DS_Store --> 'utf-8' codec can't decode byte 0x80 in position 3131: invalid start byte\n",
      "len: 2214\n"
     ]
    }
   ],
   "source": [
    "folder = \"data_summary/summaries/\"\n",
    "summaries = []\n",
    "for file in os.listdir(folder):\n",
    "    try:\n",
    "        txt = open(folder+file, \"r\")\n",
    "        summaries.append(' '.join([i.strip() for i in txt.readlines()]))\n",
    "    except Exception as e:\n",
    "        print(\"error file:\", file, \"-->\", e)\n",
    "        \n",
    "print(\"len:\", len(summaries))"
   ]
  },
  {
   "cell_type": "code",
   "execution_count": 4,
   "metadata": {},
   "outputs": [
    {
     "data": {
      "text/html": [
       "<div>\n",
       "<style scoped>\n",
       "    .dataframe tbody tr th:only-of-type {\n",
       "        vertical-align: middle;\n",
       "    }\n",
       "\n",
       "    .dataframe tbody tr th {\n",
       "        vertical-align: top;\n",
       "    }\n",
       "\n",
       "    .dataframe thead th {\n",
       "        text-align: right;\n",
       "    }\n",
       "</style>\n",
       "<table border=\"1\" class=\"dataframe\">\n",
       "  <thead>\n",
       "    <tr style=\"text-align: right;\">\n",
       "      <th></th>\n",
       "      <th>text</th>\n",
       "      <th>y</th>\n",
       "    </tr>\n",
       "  </thead>\n",
       "  <tbody>\n",
       "    <tr>\n",
       "      <th>0</th>\n",
       "      <td>Wilkinson fit to face Edinburgh  England capta...</td>\n",
       "      <td>England captain Jonny Wilkinson will make his ...</td>\n",
       "    </tr>\n",
       "    <tr>\n",
       "      <th>1</th>\n",
       "      <td>More reforms ahead says Milburn  Labour will c...</td>\n",
       "      <td>Labour will continue to pursue controversial r...</td>\n",
       "    </tr>\n",
       "    <tr>\n",
       "      <th>2</th>\n",
       "      <td>Ban on hunting comes into force  Fox hunting w...</td>\n",
       "      <td>We will keep these hounds going, we will keep ...</td>\n",
       "    </tr>\n",
       "    <tr>\n",
       "      <th>3</th>\n",
       "      <td>Davenport hits out at Wimbledon  World number ...</td>\n",
       "      <td>Reacting to a disputed comment by All England ...</td>\n",
       "    </tr>\n",
       "    <tr>\n",
       "      <th>4</th>\n",
       "      <td>Apple iPod family expands market  Apple has ex...</td>\n",
       "      <td>The IFPI industry body said that the popularit...</td>\n",
       "    </tr>\n",
       "  </tbody>\n",
       "</table>\n",
       "</div>"
      ],
      "text/plain": [
       "                                                text  \\\n",
       "0  Wilkinson fit to face Edinburgh  England capta...   \n",
       "1  More reforms ahead says Milburn  Labour will c...   \n",
       "2  Ban on hunting comes into force  Fox hunting w...   \n",
       "3  Davenport hits out at Wimbledon  World number ...   \n",
       "4  Apple iPod family expands market  Apple has ex...   \n",
       "\n",
       "                                                   y  \n",
       "0  England captain Jonny Wilkinson will make his ...  \n",
       "1  Labour will continue to pursue controversial r...  \n",
       "2  We will keep these hounds going, we will keep ...  \n",
       "3  Reacting to a disputed comment by All England ...  \n",
       "4  The IFPI industry body said that the popularit...  "
      ]
     },
     "execution_count": 4,
     "metadata": {},
     "output_type": "execute_result"
    }
   ],
   "source": [
    "# Create dataframe\n",
    "dtf = pd.DataFrame({\"text\":full_articles, \"y\":summaries})\n",
    "dtf.head()"
   ]
  },
  {
   "cell_type": "code",
   "execution_count": 5,
   "metadata": {},
   "outputs": [
    {
     "name": "stdout",
     "output_type": "stream",
     "text": [
      "<class 'pandas.core.frame.DataFrame'>\n",
      "RangeIndex: 2214 entries, 0 to 2213\n",
      "Data columns (total 2 columns):\n",
      " #   Column  Non-Null Count  Dtype \n",
      "---  ------  --------------  ----- \n",
      " 0   text    2214 non-null   object\n",
      " 1   y       2214 non-null   object\n",
      "dtypes: object(2)\n",
      "memory usage: 34.7+ KB\n"
     ]
    }
   ],
   "source": [
    "dtf.info()"
   ]
  },
  {
   "cell_type": "code",
   "execution_count": 6,
   "metadata": {},
   "outputs": [
    {
     "name": "stdout",
     "output_type": "stream",
     "text": [
      "--- Full text ---\n",
      "Parmalat to return to stockmarket  Parmalat, the Italian dairy company which went bust after an accounting scandal, hopes to be back on the Italian stock exchange in July.  The firm gained protection from creditors in 2003 after revealing debts of 14bn euros ($18.34bn; £9.6bn). This was eight times higher than it had previously stated. In a statement issued on Wednesday night, Parmalat Finanziaria detailed administrators' latest plans for re-listing the shares of the group.  As part of the re-listing on the Italian stock exchange, creditors' debts are expected to be converted into shares through two new share issues amounting to more than 2bn euros. The company's creditors will be asked to vote on the plan later this year. The plan is likely to give creditors of Parmalat Finanziaria shares worth about 5.7% of the debts they are owed. This is lower than the 11.3% creditors previously hoped to receive. Creditors of Parmalat, the main operating company, are likely to see the percentage of debt they receive fall from 7.3% to 6.9%.  Several former top Parmalat executives are under investigation for the fraud scandal. Lawmakers said on Wednesday night Enrico Bondi, the turnaround specialist appointed by the Italian government as Parmalat's chief executive, spoke positively about the company during a closed-door hearing of the Chamber of Deputies industry commission. \"Bondi supplied us with elements of positive results on the industrial positions and on the history of debt which will find a point of solution through the Parmalat group's quotation on the market in July,\" Italian news agency Apcom quoted several lawmakers as saying in a statement.\n",
      " \n",
      "--- Summary ---\n",
      "The plan is likely to give creditors of Parmalat Finanziaria shares worth about 5.7% of the debts they are owed.Creditors of Parmalat, the main operating company, are likely to see the percentage of debt they receive fall from 7.3% to 6.9%.As part of the re-listing on the Italian stock exchange, creditors' debts are expected to be converted into shares through two new share issues amounting to more than 2bn euros.In a statement issued on Wednesday night, Parmalat Finanziaria detailed administrators' latest plans for re-listing the shares of the group.Parmalat, the Italian dairy company which went bust after an accounting scandal, hopes to be back on the Italian stock exchange in July.\n"
     ]
    }
   ],
   "source": [
    "# check\n",
    "i = 33\n",
    "print(\"--- Full text ---\")\n",
    "print(dtf[\"text\"][i])\n",
    "print(\" \")\n",
    "print(\"--- Summary ---\")\n",
    "print(dtf[\"y\"][i])"
   ]
  },
  {
   "cell_type": "markdown",
   "metadata": {},
   "source": [
    "### 1 - Text Analysis"
   ]
  },
  {
   "cell_type": "markdown",
   "metadata": {},
   "source": [
    "- Text cleaning\n",
    "- Word frequency\n",
    "- Length analysis"
   ]
  },
  {
   "cell_type": "markdown",
   "metadata": {},
   "source": [
    "###### Text cleaning"
   ]
  },
  {
   "cell_type": "code",
   "execution_count": 7,
   "metadata": {},
   "outputs": [],
   "source": [
    "lst_stopwords = create_stopwords()\n",
    "lst_stopwords = lst_stopwords + [\"said\",\"mr\",\"would\",\"also\"]"
   ]
  },
  {
   "cell_type": "code",
   "execution_count": 8,
   "metadata": {},
   "outputs": [
    {
     "data": {
      "text/html": [
       "<div>\n",
       "<style scoped>\n",
       "    .dataframe tbody tr th:only-of-type {\n",
       "        vertical-align: middle;\n",
       "    }\n",
       "\n",
       "    .dataframe tbody tr th {\n",
       "        vertical-align: top;\n",
       "    }\n",
       "\n",
       "    .dataframe thead th {\n",
       "        text-align: right;\n",
       "    }\n",
       "</style>\n",
       "<table border=\"1\" class=\"dataframe\">\n",
       "  <thead>\n",
       "    <tr style=\"text-align: right;\">\n",
       "      <th></th>\n",
       "      <th>text</th>\n",
       "      <th>y</th>\n",
       "      <th>text_clean</th>\n",
       "      <th>y_clean</th>\n",
       "    </tr>\n",
       "  </thead>\n",
       "  <tbody>\n",
       "    <tr>\n",
       "      <th>0</th>\n",
       "      <td>Wilkinson fit to face Edinburgh  England capta...</td>\n",
       "      <td>England captain Jonny Wilkinson will make his ...</td>\n",
       "      <td>wilkinson fit face edinburgh england captain j...</td>\n",
       "      <td>england captain jonny wilkinson make longawait...</td>\n",
       "    </tr>\n",
       "    <tr>\n",
       "      <th>1</th>\n",
       "      <td>More reforms ahead says Milburn  Labour will c...</td>\n",
       "      <td>Labour will continue to pursue controversial r...</td>\n",
       "      <td>reforms ahead says milburn labour continue pur...</td>\n",
       "      <td>labour continue pursue controversial reforms w...</td>\n",
       "    </tr>\n",
       "    <tr>\n",
       "      <th>2</th>\n",
       "      <td>Ban on hunting comes into force  Fox hunting w...</td>\n",
       "      <td>We will keep these hounds going, we will keep ...</td>\n",
       "      <td>ban hunting comes force fox hunting dogs illeg...</td>\n",
       "      <td>keep hounds going keep community going end com...</td>\n",
       "    </tr>\n",
       "    <tr>\n",
       "      <th>3</th>\n",
       "      <td>Davenport hits out at Wimbledon  World number ...</td>\n",
       "      <td>Reacting to a disputed comment by All England ...</td>\n",
       "      <td>davenport hits wimbledon world number one lind...</td>\n",
       "      <td>reacting disputed comment england club chairma...</td>\n",
       "    </tr>\n",
       "    <tr>\n",
       "      <th>4</th>\n",
       "      <td>Apple iPod family expands market  Apple has ex...</td>\n",
       "      <td>The IFPI industry body said that the popularit...</td>\n",
       "      <td>apple ipod family expands market apple expande...</td>\n",
       "      <td>ifpi industry body popularity portable music p...</td>\n",
       "    </tr>\n",
       "  </tbody>\n",
       "</table>\n",
       "</div>"
      ],
      "text/plain": [
       "                                                text  \\\n",
       "0  Wilkinson fit to face Edinburgh  England capta...   \n",
       "1  More reforms ahead says Milburn  Labour will c...   \n",
       "2  Ban on hunting comes into force  Fox hunting w...   \n",
       "3  Davenport hits out at Wimbledon  World number ...   \n",
       "4  Apple iPod family expands market  Apple has ex...   \n",
       "\n",
       "                                                   y  \\\n",
       "0  England captain Jonny Wilkinson will make his ...   \n",
       "1  Labour will continue to pursue controversial r...   \n",
       "2  We will keep these hounds going, we will keep ...   \n",
       "3  Reacting to a disputed comment by All England ...   \n",
       "4  The IFPI industry body said that the popularit...   \n",
       "\n",
       "                                          text_clean  \\\n",
       "0  wilkinson fit face edinburgh england captain j...   \n",
       "1  reforms ahead says milburn labour continue pur...   \n",
       "2  ban hunting comes force fox hunting dogs illeg...   \n",
       "3  davenport hits wimbledon world number one lind...   \n",
       "4  apple ipod family expands market apple expande...   \n",
       "\n",
       "                                             y_clean  \n",
       "0  england captain jonny wilkinson make longawait...  \n",
       "1  labour continue pursue controversial reforms w...  \n",
       "2  keep hounds going keep community going end com...  \n",
       "3  reacting disputed comment england club chairma...  \n",
       "4  ifpi industry body popularity portable music p...  "
      ]
     },
     "execution_count": 8,
     "metadata": {},
     "output_type": "execute_result"
    }
   ],
   "source": [
    "dtf = add_preprocessed_text(dtf, column=\"text\", punkt=True, lower=True, slang=True, lst_stopwords=lst_stopwords)\n",
    "dtf = add_preprocessed_text(dtf, column=\"y\", punkt=True, lower=True, slang=True, lst_stopwords=lst_stopwords)\n",
    "dtf.head()"
   ]
  },
  {
   "cell_type": "code",
   "execution_count": 9,
   "metadata": {},
   "outputs": [
    {
     "name": "stdout",
     "output_type": "stream",
     "text": [
      "--- Full text ---\n",
      "parmalat return stockmarket parmalat italian dairy company went bust accounting scandal hopes back italian stock exchange july firm gained protection creditors 2003 revealing debts 14bn euros 1834bn 96bn eight times higher previously stated statement issued wednesday night parmalat finanziaria detailed administrators latest plans relisting shares group part relisting italian stock exchange creditors debts expected converted shares two new share issues amounting 2bn euros companys creditors asked vote plan later year plan likely give creditors parmalat finanziaria shares worth 57 debts owed lower 113 creditors previously hoped receive creditors parmalat main operating company likely see percentage debt receive fall 73 69 several former top parmalat executives investigation fraud scandal lawmakers wednesday night enrico bondi turnaround specialist appointed italian government parmalats chief executive spoke positively company closeddoor hearing chamber deputies industry commission bondi supplied us elements positive results industrial positions history debt find point solution parmalat groups quotation market july italian news agency apcom quoted several lawmakers saying statement\n",
      " \n",
      "--- Summary ---\n",
      "plan likely give creditors parmalat finanziaria shares worth 57 debts owed creditors parmalat main operating company likely see percentage debt receive fall 73 69 part relisting italian stock exchange creditors debts expected converted shares two new share issues amounting 2bn euros statement issued wednesday night parmalat finanziaria detailed administrators latest plans relisting shares group parmalat italian dairy company went bust accounting scandal hopes back italian stock exchange july\n"
     ]
    }
   ],
   "source": [
    "# check\n",
    "print(\"--- Full text ---\")\n",
    "print(dtf[\"text_clean\"][i])\n",
    "print(\" \")\n",
    "print(\"--- Summary ---\")\n",
    "print(dtf[\"y_clean\"][i])"
   ]
  },
  {
   "cell_type": "markdown",
   "metadata": {},
   "source": [
    "###### Word frequency"
   ]
  },
  {
   "cell_type": "code",
   "execution_count": 10,
   "metadata": {},
   "outputs": [
    {
     "data": {
      "image/png": "[encoded data removed]",
      "text/plain": [
       "<Figure size 720x504 with 1 Axes>"
      ]
     },
     "metadata": {
      "needs_background": "light"
     },
     "output_type": "display_data"
    }
   ],
   "source": [
    "words = word_freq(corpus=dtf[\"text_clean\"], ngrams=[1,2,3], top=10, figsize=(10,7))"
   ]
  },
  {
   "cell_type": "markdown",
   "metadata": {},
   "source": [
    "###### Length analysis"
   ]
  },
  {
   "cell_type": "code",
   "execution_count": 11,
   "metadata": {},
   "outputs": [
    {
     "name": "stdout",
     "output_type": "stream",
     "text": [
      "                            min         mean           max\n",
      "char_count           290.000000  1331.848238  13963.000000\n",
      "word_count            48.000000   215.579494   2189.000000\n",
      "sentence_count         1.000000     1.000000      1.000000\n",
      "avg_word_length        4.891892     6.166043      7.403509\n",
      "avg_sentence_lenght   48.000000   215.579494   2189.000000\n"
     ]
    }
   ],
   "source": [
    "# Texts\n",
    "X = add_text_length(dtf, \"text_clean\")"
   ]
  },
  {
   "cell_type": "code",
   "execution_count": 12,
   "metadata": {},
   "outputs": [
    {
     "data": {
      "image/png": "[encoded data removed]",
      "text/plain": [
       "<Figure size 720x216 with 1 Axes>"
      ]
     },
     "metadata": {
      "needs_background": "light"
     },
     "output_type": "display_data"
    }
   ],
   "source": [
    "plot_distributions(X, x=\"word_count\", figsize=(10,3))"
   ]
  },
  {
   "cell_type": "code",
   "execution_count": 13,
   "metadata": {},
   "outputs": [],
   "source": [
    "X_avg_length = int(X[\"word_count\"].mean())"
   ]
  },
  {
   "cell_type": "code",
   "execution_count": 14,
   "metadata": {},
   "outputs": [
    {
     "name": "stdout",
     "output_type": "stream",
     "text": [
      "                       min        mean          max\n",
      "char_count           121.0  597.155827  6891.000000\n",
      "word_count            19.0   96.743451  1081.000000\n",
      "sentence_count         1.0    1.000000     1.000000\n",
      "avg_word_length        4.8    6.170338     7.736842\n",
      "avg_sentence_lenght   19.0   96.743451  1081.000000\n"
     ]
    }
   ],
   "source": [
    "# Summaries\n",
    "y = add_text_length(dtf, \"y_clean\")"
   ]
  },
  {
   "cell_type": "code",
   "execution_count": 15,
   "metadata": {},
   "outputs": [
    {
     "data": {
      "image/png": "[encoded data removed]",
      "text/plain": [
       "<Figure size 720x216 with 1 Axes>"
      ]
     },
     "metadata": {
      "needs_background": "light"
     },
     "output_type": "display_data"
    }
   ],
   "source": [
    "plot_distributions(y, x=\"word_count\", max_cat=1, figsize=(10,3))"
   ]
  },
  {
   "cell_type": "code",
   "execution_count": 16,
   "metadata": {},
   "outputs": [],
   "source": [
    "y_avg_length = int(y[\"word_count\"].mean())"
   ]
  },
  {
   "cell_type": "code",
   "execution_count": 17,
   "metadata": {},
   "outputs": [
    {
     "name": "stdout",
     "output_type": "stream",
     "text": [
      "min     0.159341\n",
      "mean    0.448637\n",
      "max     0.713178\n",
      "Name: ratio, dtype: float64\n"
     ]
    },
    {
     "data": {
      "image/png": "[encoded data removed]",
      "text/plain": [
       "<Figure size 720x216 with 1 Axes>"
      ]
     },
     "metadata": {
      "needs_background": "light"
     },
     "output_type": "display_data"
    }
   ],
   "source": [
    "# Ratio summary / text\n",
    "y[\"ratio\"] = y[\"word_count\"] / X[\"word_count\"]\n",
    "print(y[\"ratio\"].describe().T[[\"min\",\"mean\",\"max\"]])\n",
    "\n",
    "plot_distributions(y, x=\"ratio\", figsize=(10,3))"
   ]
  },
  {
   "cell_type": "code",
   "execution_count": 18,
   "metadata": {},
   "outputs": [],
   "source": [
    "ratio = 0.45"
   ]
  },
  {
   "cell_type": "markdown",
   "metadata": {},
   "source": [
    "###### Summary"
   ]
  },
  {
   "cell_type": "code",
   "execution_count": 19,
   "metadata": {},
   "outputs": [
    {
     "data": {
      "text/html": [
       "<div>\n",
       "<style scoped>\n",
       "    .dataframe tbody tr th:only-of-type {\n",
       "        vertical-align: middle;\n",
       "    }\n",
       "\n",
       "    .dataframe tbody tr th {\n",
       "        vertical-align: top;\n",
       "    }\n",
       "\n",
       "    .dataframe thead th {\n",
       "        text-align: right;\n",
       "    }\n",
       "</style>\n",
       "<table border=\"1\" class=\"dataframe\">\n",
       "  <thead>\n",
       "    <tr style=\"text-align: right;\">\n",
       "      <th></th>\n",
       "      <th>text</th>\n",
       "      <th>text_clean</th>\n",
       "      <th>y_clean</th>\n",
       "    </tr>\n",
       "  </thead>\n",
       "  <tbody>\n",
       "    <tr>\n",
       "      <th>0</th>\n",
       "      <td>Wilkinson fit to face Edinburgh  England capta...</td>\n",
       "      <td>wilkinson fit face edinburgh england captain j...</td>\n",
       "      <td>england captain jonny wilkinson make longawait...</td>\n",
       "    </tr>\n",
       "    <tr>\n",
       "      <th>1</th>\n",
       "      <td>More reforms ahead says Milburn  Labour will c...</td>\n",
       "      <td>reforms ahead says milburn labour continue pur...</td>\n",
       "      <td>labour continue pursue controversial reforms w...</td>\n",
       "    </tr>\n",
       "    <tr>\n",
       "      <th>2</th>\n",
       "      <td>Ban on hunting comes into force  Fox hunting w...</td>\n",
       "      <td>ban hunting comes force fox hunting dogs illeg...</td>\n",
       "      <td>keep hounds going keep community going end com...</td>\n",
       "    </tr>\n",
       "    <tr>\n",
       "      <th>3</th>\n",
       "      <td>Davenport hits out at Wimbledon  World number ...</td>\n",
       "      <td>davenport hits wimbledon world number one lind...</td>\n",
       "      <td>reacting disputed comment england club chairma...</td>\n",
       "    </tr>\n",
       "    <tr>\n",
       "      <th>4</th>\n",
       "      <td>Apple iPod family expands market  Apple has ex...</td>\n",
       "      <td>apple ipod family expands market apple expande...</td>\n",
       "      <td>ifpi industry body popularity portable music p...</td>\n",
       "    </tr>\n",
       "  </tbody>\n",
       "</table>\n",
       "</div>"
      ],
      "text/plain": [
       "                                                text  \\\n",
       "0  Wilkinson fit to face Edinburgh  England capta...   \n",
       "1  More reforms ahead says Milburn  Labour will c...   \n",
       "2  Ban on hunting comes into force  Fox hunting w...   \n",
       "3  Davenport hits out at Wimbledon  World number ...   \n",
       "4  Apple iPod family expands market  Apple has ex...   \n",
       "\n",
       "                                          text_clean  \\\n",
       "0  wilkinson fit face edinburgh england captain j...   \n",
       "1  reforms ahead says milburn labour continue pur...   \n",
       "2  ban hunting comes force fox hunting dogs illeg...   \n",
       "3  davenport hits wimbledon world number one lind...   \n",
       "4  apple ipod family expands market apple expande...   \n",
       "\n",
       "                                             y_clean  \n",
       "0  england captain jonny wilkinson make longawait...  \n",
       "1  labour continue pursue controversial reforms w...  \n",
       "2  keep hounds going keep community going end com...  \n",
       "3  reacting disputed comment england club chairma...  \n",
       "4  ifpi industry body popularity portable music p...  "
      ]
     },
     "execution_count": 19,
     "metadata": {},
     "output_type": "execute_result"
    }
   ],
   "source": [
    "dtf = dtf[[\"text\",\"text_clean\",\"y_clean\"]]\n",
    "dtf.head()"
   ]
  },
  {
   "cell_type": "markdown",
   "metadata": {},
   "source": [
    "### 2 - Preprocessing"
   ]
  },
  {
   "cell_type": "code",
   "execution_count": 20,
   "metadata": {},
   "outputs": [
    {
     "data": {
      "text/html": [
       "<div>\n",
       "<style scoped>\n",
       "    .dataframe tbody tr th:only-of-type {\n",
       "        vertical-align: middle;\n",
       "    }\n",
       "\n",
       "    .dataframe tbody tr th {\n",
       "        vertical-align: top;\n",
       "    }\n",
       "\n",
       "    .dataframe thead th {\n",
       "        text-align: right;\n",
       "    }\n",
       "</style>\n",
       "<table border=\"1\" class=\"dataframe\">\n",
       "  <thead>\n",
       "    <tr style=\"text-align: right;\">\n",
       "      <th></th>\n",
       "      <th>text</th>\n",
       "      <th>text_clean</th>\n",
       "      <th>y_clean</th>\n",
       "    </tr>\n",
       "  </thead>\n",
       "  <tbody>\n",
       "    <tr>\n",
       "      <th>32</th>\n",
       "      <td>Turkey-Iran mobile deal 'at risk'  Turkey's in...</td>\n",
       "      <td>turkeyiran mobile deal risk turkeys investment...</td>\n",
       "      <td>turkcells mobile deal second turkish investmen...</td>\n",
       "    </tr>\n",
       "    <tr>\n",
       "      <th>33</th>\n",
       "      <td>Parmalat to return to stockmarket  Parmalat, t...</td>\n",
       "      <td>parmalat return stockmarket parmalat italian d...</td>\n",
       "      <td>plan likely give creditors parmalat finanziari...</td>\n",
       "    </tr>\n",
       "    <tr>\n",
       "      <th>34</th>\n",
       "      <td>Defection timed to hit tax pledge  With impecc...</td>\n",
       "      <td>defection timed hit tax pledge impeccable prec...</td>\n",
       "      <td>first time say tax cutsat election people clea...</td>\n",
       "    </tr>\n",
       "  </tbody>\n",
       "</table>\n",
       "</div>"
      ],
      "text/plain": [
       "                                                 text  \\\n",
       "32  Turkey-Iran mobile deal 'at risk'  Turkey's in...   \n",
       "33  Parmalat to return to stockmarket  Parmalat, t...   \n",
       "34  Defection timed to hit tax pledge  With impecc...   \n",
       "\n",
       "                                           text_clean  \\\n",
       "32  turkeyiran mobile deal risk turkeys investment...   \n",
       "33  parmalat return stockmarket parmalat italian d...   \n",
       "34  defection timed hit tax pledge impeccable prec...   \n",
       "\n",
       "                                              y_clean  \n",
       "32  turkcells mobile deal second turkish investmen...  \n",
       "33  plan likely give creditors parmalat finanziari...  \n",
       "34  first time say tax cutsat election people clea...  "
      ]
     },
     "execution_count": 20,
     "metadata": {},
     "output_type": "execute_result"
    }
   ],
   "source": [
    "# Partitioning\n",
    "dtf_train = dtf.copy().drop([i-1,i,i+1])\n",
    "dtf_test = dtf.copy().iloc[i-1:i+2]\n",
    "dtf_test"
   ]
  },
  {
   "cell_type": "markdown",
   "metadata": {},
   "source": [
    "### 3 - Baseline (Extractive: TextRank)"
   ]
  },
  {
   "cell_type": "code",
   "execution_count": 261,
   "metadata": {},
   "outputs": [],
   "source": [
    "# Test (no Train)\n",
    "predicted = textrank(corpus=dtf_test[\"text_clean\"], ratio=ratio)"
   ]
  },
  {
   "cell_type": "code",
   "execution_count": 262,
   "metadata": {},
   "outputs": [
    {
     "name": "stdout",
     "output_type": "stream",
     "text": [
      "rouge1: 0.55 | rouge2: 0.49 | rougeL: 0.49 --> avg rouge: 0.53\n"
     ]
    }
   ],
   "source": [
    "# Evaluate\n",
    "evaluate_summary(dtf_test[\"y_clean\"][i], predicted[i])"
   ]
  },
  {
   "cell_type": "code",
   "execution_count": 263,
   "metadata": {},
   "outputs": [
    {
     "data": {
      "text/html": [
       "<strong>Real Summary</strong><br>plan likely give creditors parmalat finanziaria shares worth 5.7% debts owed. creditors parmalat, main operating company, likely see percentage debt receive fall 7.3% 6.9%. <span style=\"background-color:rgba(255,215,0,0.3);\">part re-listing italian stock exchange, creditors' debts expected converted shares two new share issues amounting 2bn euros.</span> <span style=\"background-color:rgba(255,215,0,0.3);\">statement issued wednesday night, parmalat finanziaria detailed administrators' latest plans re-listing shares group.</span> parmalat, italian dairy company went bust accounting scandal, hopes back italian stock exchange july.<br><br><strong>Predicted Summary</strong><br>parmalat return stockmarket parmalat, italian dairy company went bust accounting scandal, hopes back italian stock exchange july. <span style=\"background-color:rgba(255,215,0,0.3);\">statement issued wednesday night, parmalat finanziaria detailed administrators' latest plans re-listing shares group.</span> <span style=\"background-color:rgba(255,215,0,0.3);\">part re-listing italian stock exchange, creditors' debts expected converted shares two new share issues amounting 2bn euros.</span> lawmakers said wednesday night enrico bondi, turnaround specialist appointed italian government parmalat's chief executive, spoke positively company closed-door hearing chamber deputies industry commission. \"bondi supplied us elements positive results industrial positions history debt find point solution parmalat group's quotation market july,\" italian news agency apcom quoted several lawmakers saying statement."
      ],
      "text/plain": [
       "<IPython.core.display.HTML object>"
      ]
     },
     "metadata": {},
     "output_type": "display_data"
    }
   ],
   "source": [
    "# Compare y_test and predicted\n",
    "match = display_string_matching(dtf_test[\"y_clean\"][i], predicted[i], both=True, sentences=True, \n",
    "                                titles=[\"Real Summary\", \"Predicted Summary\"])\n",
    "\n",
    "from IPython.core.display import display, HTML\n",
    "display(HTML(match))"
   ]
  },
  {
   "cell_type": "code",
   "execution_count": 264,
   "metadata": {},
   "outputs": [
    {
     "data": {
      "text/html": [
       "<strong>Full Text</strong><br><span style=\"background-color:rgba(255,215,0,0.3);\">parmalat return stockmarket parmalat, italian dairy company went bust accounting scandal, hopes back italian stock exchange july.</span> firm gained protection creditors 2003 revealing debts 14bn euros ($18.34bn; £9.6bn). eight times higher previously stated. <span style=\"background-color:rgba(255,215,0,0.3);\">statement issued wednesday night, parmalat finanziaria detailed administrators' latest plans re-listing shares group.</span> <span style=\"background-color:rgba(255,215,0,0.3);\">part re-listing italian stock exchange, creditors' debts expected converted shares two new share issues amounting 2bn euros.</span> company's creditors asked vote plan later year. plan likely give creditors parmalat finanziaria shares worth 5.7% debts owed. lower 11.3% creditors previously hoped receive. creditors parmalat, main operating company, likely see percentage debt receive fall 7.3% 6.9%. several former top parmalat executives investigation fraud scandal. <span style=\"background-color:rgba(255,215,0,0.3);\">lawmakers said wednesday night enrico bondi, turnaround specialist appointed italian government parmalat's chief executive, spoke positively company closed-door hearing chamber deputies industry commission.</span> <span style=\"background-color:rgba(255,215,0,0.3);\">\"bondi supplied us elements positive results industrial positions history debt find point solution parmalat group's quotation market july,\" italian news agency apcom quoted several lawmakers saying statement.</span><br><br><strong>Predicted Summary</strong><br><span style=\"background-color:rgba(255,215,0,0.3);\">parmalat return stockmarket parmalat, italian dairy company went bust accounting scandal, hopes back italian stock exchange july.</span> <span style=\"background-color:rgba(255,215,0,0.3);\">statement issued wednesday night, parmalat finanziaria detailed administrators' latest plans re-listing shares group.</span> <span style=\"background-color:rgba(255,215,0,0.3);\">part re-listing italian stock exchange, creditors' debts expected converted shares two new share issues amounting 2bn euros.</span> <span style=\"background-color:rgba(255,215,0,0.3);\">lawmakers said wednesday night enrico bondi, turnaround specialist appointed italian government parmalat's chief executive, spoke positively company closed-door hearing chamber deputies industry commission.</span> <span style=\"background-color:rgba(255,215,0,0.3);\">\"bondi supplied us elements positive results industrial positions history debt find point solution parmalat group's quotation market july,\" italian news agency apcom quoted several lawmakers saying statement.</span>"
      ],
      "text/plain": [
       "<IPython.core.display.HTML object>"
      ]
     },
     "metadata": {},
     "output_type": "display_data"
    }
   ],
   "source": [
    "# Explainability\n",
    "match = display_string_matching(dtf_test[\"text_clean\"][i], predicted[i], both=True, sentences=True, \n",
    "                                titles=[\"Full Text\", \"Predicted Summary\"])\n",
    "\n",
    "from IPython.core.display import display, HTML\n",
    "display(HTML(match))"
   ]
  },
  {
   "cell_type": "markdown",
   "metadata": {},
   "source": [
    "### 4 - Model (Abstractive: Seq2Seq)"
   ]
  },
  {
   "cell_type": "markdown",
   "metadata": {},
   "source": [
    "###### Features Engineering"
   ]
  },
  {
   "cell_type": "code",
   "execution_count": 21,
   "metadata": {},
   "outputs": [
    {
     "data": {
      "text/plain": [
       "'<START> plan likely give creditors parmalat finanziaria shares worth 57 debts owed creditors parmalat main operating company likely see percentage debt receive fall 73 69 part relisting italian stock exchange creditors debts expected converted shares two new share issues amounting 2bn euros statement issued wednesday night parmalat finanziaria detailed administrators latest plans relisting shares group parmalat italian dairy company went bust accounting scandal hopes back italian stock exchange july <END>'"
      ]
     },
     "execution_count": 21,
     "metadata": {},
     "output_type": "execute_result"
    }
   ],
   "source": [
    "# Add START and END tokens\n",
    "special_tokens = (\"<START>\", \"<END>\")\n",
    "dtf_train[\"y_clean\"] = dtf_train['y_clean'].apply(lambda x: special_tokens[0]+' '+x+' '+special_tokens[1])\n",
    "dtf_test[\"y_clean\"] = dtf_test['y_clean'].apply(lambda x: special_tokens[0]+' '+x+' '+special_tokens[1])\n",
    "dtf_test[\"y_clean\"][i]"
   ]
  },
  {
   "cell_type": "code",
   "execution_count": 22,
   "metadata": {},
   "outputs": [
    {
     "name": "stdout",
     "output_type": "stream",
     "text": [
      "--- tokenization ---\n",
      "33887 words\n",
      "--- padding to sequence ---\n",
      "2211 sequences of length 215\n"
     ]
    },
    {
     "data": {
      "image/png": "[encoded data removed]",
      "text/plain": [
       "<Figure size 1080x360 with 1 Axes>"
      ]
     },
     "metadata": {
      "needs_background": "light"
     },
     "output_type": "display_data"
    }
   ],
   "source": [
    "# Create X_train for seq2seq (sequences of tokens)\n",
    "dic_seq = text2seq(corpus=dtf_train[\"text_clean\"], oov=\"NaN\", maxlen=X_avg_length)\n",
    "\n",
    "X_train, tokenizer, X_dic_vocabulary = dic_seq[\"X\"], dic_seq[\"tokenizer\"], dic_seq[\"dic_vocabulary\"]"
   ]
  },
  {
   "cell_type": "code",
   "execution_count": 23,
   "metadata": {},
   "outputs": [
    {
     "name": "stdout",
     "output_type": "stream",
     "text": [
      "--- tokenization ---\n",
      "--- padding to sequence ---\n",
      "3 sequences of length 215\n"
     ]
    },
    {
     "data": {
      "image/png": "[encoded data removed]",
      "text/plain": [
       "<Figure size 1080x360 with 1 Axes>"
      ]
     },
     "metadata": {
      "needs_background": "light"
     },
     "output_type": "display_data"
    }
   ],
   "source": [
    "# Preprocess X_test with the same tokenizer\n",
    "X_test = text2seq(corpus=dtf_test[\"text_clean\"], fitted_tokenizer=tokenizer, maxlen=X_train.shape[1])"
   ]
  },
  {
   "cell_type": "code",
   "execution_count": 24,
   "metadata": {},
   "outputs": [
    {
     "name": "stdout",
     "output_type": "stream",
     "text": [
      "--- tokenization ---\n",
      "24772 words\n",
      "--- padding to sequence ---\n",
      "2211 sequences of length 96\n"
     ]
    },
    {
     "data": {
      "image/png": "[encoded data removed]",
      "text/plain": [
       "<Figure size 1080x360 with 1 Axes>"
      ]
     },
     "metadata": {
      "needs_background": "light"
     },
     "output_type": "display_data"
    }
   ],
   "source": [
    "# Tokenize the summaries (y_train)\n",
    "dic_seq = text2seq(corpus=dtf_train[\"y_clean\"], oov=\"NaN\", maxlen=y_avg_length)\n",
    "\n",
    "y_train, tokenizer, y_dic_vocabulary = dic_seq[\"X\"], dic_seq[\"tokenizer\"], dic_seq[\"dic_vocabulary\"]"
   ]
  },
  {
   "cell_type": "code",
   "execution_count": 25,
   "metadata": {},
   "outputs": [
    {
     "name": "stdout",
     "output_type": "stream",
     "text": [
      "--- tokenization ---\n",
      "--- padding to sequence ---\n",
      "3 sequences of length 96\n"
     ]
    },
    {
     "data": {
      "image/png": "[encoded data removed]",
      "text/plain": [
       "<Figure size 1080x360 with 1 Axes>"
      ]
     },
     "metadata": {
      "needs_background": "light"
     },
     "output_type": "display_data"
    }
   ],
   "source": [
    "# Preprocess y_test with the same tokenizer\n",
    "y_test = text2seq(corpus=dtf_test[\"y_clean\"], fitted_tokenizer=tokenizer, maxlen=y_train.shape[1])"
   ]
  },
  {
   "cell_type": "markdown",
   "metadata": {},
   "source": [
    "###### Create Embedding Weights"
   ]
  },
  {
   "cell_type": "code",
   "execution_count": 26,
   "metadata": {},
   "outputs": [],
   "source": [
    "# Load pre-trained W2V\n",
    "nlp = gensim_api.load(\"glove-wiki-gigaword-300\")"
   ]
  },
  {
   "cell_type": "code",
   "execution_count": 27,
   "metadata": {},
   "outputs": [
    {
     "name": "stdout",
     "output_type": "stream",
     "text": [
      "vocabulary mapped to 33888 vectors of size 300\n"
     ]
    },
    {
     "data": {
      "text/plain": [
       "(33888, 300)"
      ]
     },
     "execution_count": 27,
     "metadata": {},
     "output_type": "execute_result"
    }
   ],
   "source": [
    "X_embeddings = vocabulary_embeddings(X_dic_vocabulary, nlp)\n",
    "X_embeddings.shape"
   ]
  },
  {
   "cell_type": "code",
   "execution_count": 28,
   "metadata": {},
   "outputs": [
    {
     "name": "stdout",
     "output_type": "stream",
     "text": [
      "vocabulary mapped to 24773 vectors of size 300\n"
     ]
    },
    {
     "data": {
      "text/plain": [
       "(24773, 300)"
      ]
     },
     "execution_count": 28,
     "metadata": {},
     "output_type": "execute_result"
    }
   ],
   "source": [
    "y_embeddings = vocabulary_embeddings(y_dic_vocabulary, nlp)\n",
    "y_embeddings.shape"
   ]
  },
  {
   "cell_type": "markdown",
   "metadata": {},
   "source": [
    "###### Model Design"
   ]
  },
  {
   "cell_type": "code",
   "execution_count": 46,
   "metadata": {},
   "outputs": [
    {
     "name": "stdout",
     "output_type": "stream",
     "text": [
      "Model: \"Seq2Seq\"\n",
      "__________________________________________________________________________________________________\n",
      "Layer (type)                    Output Shape         Param #     Connected to                     \n",
      "==================================================================================================\n",
      "x_in (InputLayer)               [(None, 215)]        0                                            \n",
      "__________________________________________________________________________________________________\n",
      "y_in (InputLayer)               [(None, None)]       0                                            \n",
      "__________________________________________________________________________________________________\n",
      "x_emb (Embedding)               (None, 215, 300)     10166400    x_in[0][0]                       \n",
      "__________________________________________________________________________________________________\n",
      "y_emb (Embedding)               (None, None, 300)    7431900     y_in[0][0]                       \n",
      "__________________________________________________________________________________________________\n",
      "x_lstm (LSTM)                   [(None, 215, 250), ( 551000      x_emb[0][0]                      \n",
      "__________________________________________________________________________________________________\n",
      "y_lstm (LSTM)                   [(None, None, 250),  551000      y_emb[0][0]                      \n",
      "                                                                 x_lstm[0][1]                     \n",
      "                                                                 x_lstm[0][2]                     \n",
      "__________________________________________________________________________________________________\n",
      "dense (TimeDistributed)         (None, None, 24773)  6218023     y_lstm[0][0]                     \n",
      "==================================================================================================\n",
      "Total params: 24,918,323\n",
      "Trainable params: 7,320,023\n",
      "Non-trainable params: 17,598,300\n",
      "__________________________________________________________________________________________________\n"
     ]
    }
   ],
   "source": [
    "# Simple Seq2Seq\n",
    "lstm_units = 250\n",
    "\n",
    "##------------ ENCODER (embedding + lstm) ------------------------------##\n",
    "x_in = layers.Input(name=\"x_in\", shape=(X_train.shape[1],))\n",
    "### embedding\n",
    "layer_x_emb = layers.Embedding(name=\"x_emb\", input_dim=X_embeddings.shape[0], output_dim=X_embeddings.shape[1], \n",
    "                               weights=[X_embeddings], trainable=False)\n",
    "x_emb = layer_x_emb(x_in)\n",
    "### lstm \n",
    "layer_x_lstm = layers.LSTM(name=\"x_lstm\", units=lstm_units, dropout=0.4, recurrent_dropout=0.4,\n",
    "                           return_sequences=True, return_state=True)\n",
    "x_out, state_h, state_c = layer_x_lstm(x_emb)\n",
    "\n",
    "##------------ DECODER (embedding + lstm + dense) ---------------------##\n",
    "y_in = layers.Input(name=\"y_in\", shape=(None,))\n",
    "### embedding\n",
    "layer_y_emb = layers.Embedding(name=\"y_emb\", input_dim=y_embeddings.shape[0], output_dim=y_embeddings.shape[1], \n",
    "                               weights=[y_embeddings], trainable=False)\n",
    "y_emb = layer_y_emb(y_in)\n",
    "### lstm \n",
    "layer_y_lstm = layers.LSTM(name=\"y_lstm\", units=lstm_units, dropout=0.4, recurrent_dropout=0.4,\n",
    "                           return_sequences=True, return_state=True)\n",
    "y_out, _, _ = layer_y_lstm(y_emb, initial_state=[state_h, state_c])\n",
    "### final dense layers\n",
    "layer_dense = layers.TimeDistributed(name=\"dense\", \n",
    "                                     layer=layers.Dense(units=y_embeddings.shape[0], activation='softmax'))\n",
    "y_out = layer_dense(y_out)\n",
    "\n",
    "## compile\n",
    "model = models.Model(inputs=[x_in, y_in], outputs=y_out, name=\"Seq2Seq\")\n",
    "model.compile(optimizer='rmsprop', loss='sparse_categorical_crossentropy', metrics=['accuracy'])\n",
    "\n",
    "model.summary()"
   ]
  },
  {
   "cell_type": "code",
   "execution_count": 53,
   "metadata": {},
   "outputs": [
    {
     "name": "stdout",
     "output_type": "stream",
     "text": [
      "Model: \"Seq2Seq\"\n",
      "__________________________________________________________________________________________________\n",
      "Layer (type)                    Output Shape         Param #     Connected to                     \n",
      "==================================================================================================\n",
      "x_in (InputLayer)               [(None, 215)]        0                                            \n",
      "__________________________________________________________________________________________________\n",
      "x_emb (Embedding)               (None, 215, 300)     10166400    x_in[0][0]                       \n",
      "__________________________________________________________________________________________________\n",
      "x_lstm_1 (Bidirectional)        [(None, 215, 500), ( 1102000     x_emb[0][0]                      \n",
      "__________________________________________________________________________________________________\n",
      "x_lstm_2 (Bidirectional)        [(None, 215, 500), ( 1502000     x_lstm_1[0][0]                   \n",
      "__________________________________________________________________________________________________\n",
      "y_in (InputLayer)               [(None, None)]       0                                            \n",
      "__________________________________________________________________________________________________\n",
      "x_lstm_3 (Bidirectional)        [(None, 215, 500), ( 1502000     x_lstm_2[0][0]                   \n",
      "__________________________________________________________________________________________________\n",
      "y_emb (Embedding)               (None, None, 300)    7431900     y_in[0][0]                       \n",
      "__________________________________________________________________________________________________\n",
      "concatenate_2 (Concatenate)     (None, 500)          0           x_lstm_3[0][1]                   \n",
      "                                                                 x_lstm_3[0][3]                   \n",
      "__________________________________________________________________________________________________\n",
      "concatenate_3 (Concatenate)     (None, 500)          0           x_lstm_3[0][2]                   \n",
      "                                                                 x_lstm_3[0][4]                   \n",
      "__________________________________________________________________________________________________\n",
      "y_lstm (LSTM)                   [(None, None, 500),  1602000     y_emb[0][0]                      \n",
      "                                                                 concatenate_2[0][0]              \n",
      "                                                                 concatenate_3[0][0]              \n",
      "__________________________________________________________________________________________________\n",
      "dense (TimeDistributed)         (None, None, 24773)  12411273    y_lstm[0][0]                     \n",
      "==================================================================================================\n",
      "Total params: 35,717,573\n",
      "Trainable params: 18,119,273\n",
      "Non-trainable params: 17,598,300\n",
      "__________________________________________________________________________________________________\n"
     ]
    }
   ],
   "source": [
    "# Seq2Seq with Embedding + Bi-LSTM + Attention layers\n",
    "lstm_units = 250\n",
    "\n",
    "##------------ ENCODER (embedding + 3 lstm) ------------------------------##\n",
    "x_in = layers.Input(name=\"x_in\", shape=(X_train.shape[1],))\n",
    "### embedding\n",
    "layer_x_emb = layers.Embedding(name=\"x_emb\", input_dim=X_embeddings.shape[0], output_dim=X_embeddings.shape[1], \n",
    "                               weights=[X_embeddings], trainable=False)\n",
    "x_emb = layer_x_emb(x_in)\n",
    "### lstm 1\n",
    "layer_x_bilstm = layers.Bidirectional(layers.LSTM(units=lstm_units, dropout=0.4, recurrent_dropout=0.4,\n",
    "                                                  return_sequences=True, return_state=True), \n",
    "                                      name=\"x_lstm_1\")\n",
    "x_out, _, _, _, _ = layer_x_bilstm(x_emb)\n",
    "### lstm 2\n",
    "layer_x_bilstm = layers.Bidirectional(layers.LSTM(units=lstm_units, dropout=0.4, recurrent_dropout=0.4,\n",
    "                                                  return_sequences=True, return_state=True),\n",
    "                                      name=\"x_lstm_2\")\n",
    "x_out, _, _, _, _ = layer_x_bilstm(x_out)\n",
    "### lstm 3 (here final states are collected)\n",
    "layer_x_bilstm = layers.Bidirectional(layers.LSTM(units=lstm_units, dropout=0.4, recurrent_dropout=0.4,\n",
    "                                                  return_sequences=True, return_state=True),\n",
    "                                      name=\"x_lstm_3\")\n",
    "x_out, forward_h, forward_c, backward_h, backward_c = layer_x_bilstm(x_out)\n",
    "state_h = layers.Concatenate()([forward_h, backward_h])\n",
    "state_c = layers.Concatenate()([forward_c, backward_c])\n",
    "\n",
    "##------------ DECODER (embedding + lstm + attention + dense) ------------##\n",
    "y_in = layers.Input(name=\"y_in\", shape=(None,))\n",
    "### embedding\n",
    "layer_y_emb = layers.Embedding(name=\"y_emb\", input_dim=y_embeddings.shape[0], output_dim=y_embeddings.shape[1], \n",
    "                               weights=[y_embeddings], trainable=False)\n",
    "y_emb = layer_y_emb(y_in)\n",
    "### lstm\n",
    "layer_y_lstm = layers.LSTM(name=\"y_lstm\", units=lstm_units*2, dropout=0.2, recurrent_dropout=0.2,\n",
    "                           return_sequences=True, return_state=True)\n",
    "y_out, _, _ = layer_y_lstm(y_emb, initial_state=[state_h, state_c])\n",
    "### attention\n",
    "#x, state_x = layers.Attention()([x_out, y_out])\n",
    "#merge = layers.Concatenate(name='merge', axis=-1)([y_out, y_emb])\n",
    "### final dense layers\n",
    "layer_dense = layers.TimeDistributed(name=\"dense\", \n",
    "                                     layer=layers.Dense(units=y_embeddings.shape[0], activation='softmax'))\n",
    "y_out = layer_dense(y_out)\n",
    "\n",
    "## compile\n",
    "model = models.Model(inputs=[x_in, y_in], outputs=y_out, name=\"Seq2Seq\")\n",
    "model.compile(optimizer='rmsprop', loss='sparse_categorical_crossentropy', metrics=['accuracy'])\n",
    "\n",
    "model.summary()"
   ]
  },
  {
   "cell_type": "markdown",
   "metadata": {},
   "source": [
    "###### Train"
   ]
  },
  {
   "cell_type": "code",
   "execution_count": 47,
   "metadata": {},
   "outputs": [
    {
     "data": {
      "image/png": "[encoded data removed]",
      "text/plain": [
       "<Figure size 1080x216 with 4 Axes>"
      ]
     },
     "metadata": {
      "needs_background": "light"
     },
     "output_type": "display_data"
    }
   ],
   "source": [
    "# This takes a while\n",
    "model = fit_seq2seq(X_train, y_train, X_embeddings, y_embeddings, model, \n",
    "                    build_encoder_decoder=False, epochs=10, batch_size=64)\n",
    "#model, encoder_model, decoder_model = fit_seq2seq(X_train, y_train, X_embeddings, y_embeddings, model, \n",
    "#                                                  build_encoder_decoder=True, epochs=10, batch_size=64)"
   ]
  },
  {
   "cell_type": "markdown",
   "metadata": {},
   "source": [
    "###### Test"
   ]
  },
  {
   "cell_type": "code",
   "execution_count": 48,
   "metadata": {},
   "outputs": [
    {
     "name": "stdout",
     "output_type": "stream",
     "text": [
      "Model: \"Prediction_Encoder\"\n",
      "_________________________________________________________________\n",
      "Layer (type)                 Output Shape              Param #   \n",
      "=================================================================\n",
      "x_in (InputLayer)            [(None, 215)]             0         \n",
      "_________________________________________________________________\n",
      "x_emb (Embedding)            (None, 215, 300)          10166400  \n",
      "_________________________________________________________________\n",
      "x_lstm (LSTM)                [(None, 215, 250), (None, 551000    \n",
      "=================================================================\n",
      "Total params: 10,717,400\n",
      "Trainable params: 551,000\n",
      "Non-trainable params: 10,166,400\n",
      "_________________________________________________________________\n"
     ]
    }
   ],
   "source": [
    "# Prediction Encoder\n",
    "encoder_model = models.Model(inputs=x_in, outputs=[x_out, state_h, state_c], name=\"Prediction_Encoder\")\n",
    "encoder_model.summary()"
   ]
  },
  {
   "cell_type": "code",
   "execution_count": 49,
   "metadata": {},
   "outputs": [
    {
     "name": "stdout",
     "output_type": "stream",
     "text": [
      "Model: \"Prediction_Decoder\"\n",
      "__________________________________________________________________________________________________\n",
      "Layer (type)                    Output Shape         Param #     Connected to                     \n",
      "==================================================================================================\n",
      "y_in (InputLayer)               [(None, None)]       0                                            \n",
      "__________________________________________________________________________________________________\n",
      "y_emb (Embedding)               (None, None, 300)    7431900     y_in[0][0]                       \n",
      "__________________________________________________________________________________________________\n",
      "input_5 (InputLayer)            [(None, 250)]        0                                            \n",
      "__________________________________________________________________________________________________\n",
      "input_6 (InputLayer)            [(None, 250)]        0                                            \n",
      "__________________________________________________________________________________________________\n",
      "y_lstm (LSTM)                   [(None, None, 250),  551000      y_emb[1][0]                      \n",
      "                                                                 input_5[0][0]                    \n",
      "                                                                 input_6[0][0]                    \n",
      "__________________________________________________________________________________________________\n",
      "input_4 (InputLayer)            [(None, 215, 250)]   0                                            \n",
      "__________________________________________________________________________________________________\n",
      "dense (TimeDistributed)         (None, None, 24773)  6218023     y_lstm[1][0]                     \n",
      "==================================================================================================\n",
      "Total params: 14,200,923\n",
      "Trainable params: 6,769,023\n",
      "Non-trainable params: 7,431,900\n",
      "__________________________________________________________________________________________________\n"
     ]
    }
   ],
   "source": [
    "# Prediction Decoder\n",
    "lstm_units = lstm_units*2\n",
    "\n",
    "## states of the previous time step\n",
    "encoder_out = layers.Input(shape=(X_train.shape[1], lstm_units))\n",
    "state_h, state_c = layers.Input(shape=(lstm_units,)), layers.Input(shape=(lstm_units,))\n",
    "\n",
    "## decoder embeddings\n",
    "y_emb2 = layer_y_emb(y_in)\n",
    "\n",
    "## lstm to predict the next word\n",
    "y_out2, state_h2, state_c2 = layer_y_lstm(y_emb2, initial_state=[state_h, state_c])\n",
    "\n",
    "## softmax to generate probability distribution over the target vocabulary\n",
    "probs = layer_dense(y_out2)\n",
    "\n",
    "## compile\n",
    "decoder_model = models.Model(inputs=[y_in, encoder_out, state_h, state_c], \n",
    "                             outputs=[probs, state_h2, state_c2],\n",
    "                             name=\"Prediction_Decoder\")\n",
    "decoder_model.summary()"
   ]
  },
  {
   "cell_type": "code",
   "execution_count": 50,
   "metadata": {},
   "outputs": [],
   "source": [
    "predicted = predict_seq2seq(X_test, encoder_model, decoder_model, tokenizer, special_tokens)"
   ]
  },
  {
   "cell_type": "code",
   "execution_count": 51,
   "metadata": {},
   "outputs": [
    {
     "name": "stdout",
     "output_type": "stream",
     "text": [
      "rouge1: 0.0 | rouge2: 0.0 | rougeL: 0.0 --> avg rouge: 0.0\n"
     ]
    }
   ],
   "source": [
    "# Evaluate\n",
    "evaluate_summary(dtf_test[\"y_clean\"][33], predicted[1])"
   ]
  },
  {
   "cell_type": "code",
   "execution_count": 52,
   "metadata": {},
   "outputs": [
    {
     "data": {
      "text/html": [
       "<strong>Real Summary</strong><br><START> plan likely give creditors parmalat finanziaria shares worth 57 debts owed creditors parmalat main operating company likely see percentage debt receive fall 73 69 part relisting italian stock exchange creditors debts expected converted shares two new share issues amounting 2bn euros statement issued wednesday night parmalat finanziaria detailed administrators latest plans relisting shares group parmalat italian dairy company went bust accounting scandal hopes back italian stock exchange july <END><br><br><strong>Predicted Summary</strong><br>us us us us us us us us us us us us us us us us us us us us us us us us us us us us us us us us us us us us us us us us us us us us us us us us us us us us us us us us us us us us us us us us us us us us us us us us us us us us us us us us us"
      ],
      "text/plain": [
       "<IPython.core.display.HTML object>"
      ]
     },
     "metadata": {},
     "output_type": "display_data"
    }
   ],
   "source": [
    "# Compare y_test and predicted\n",
    "match = display_string_matching(dtf_test[\"y_clean\"][33], predicted[1], both=True, sentences=True, \n",
    "                                titles=[\"Real Summary\", \"Predicted Summary\"])\n",
    "\n",
    "from IPython.core.display import display, HTML\n",
    "display(HTML(match))"
   ]
  },
  {
   "cell_type": "code",
   "execution_count": 44,
   "metadata": {},
   "outputs": [
    {
     "data": {
      "text/html": [
       "<strong>Full Text</strong><br>parmalat return stockmarket parmalat italian dairy company went bust accounting scandal hopes back italian stock exchange july firm gained protection creditors 2003 revealing debts 14bn euros 1834bn 96bn eight times higher previously stated statement issued wednesday night parmalat finanziaria detailed administrators latest plans relisting shares group part relisting italian stock exchange creditors debts expected converted shares two new share issues amounting 2bn euros companys creditors asked vote plan later year plan likely give creditors parmalat finanziaria shares worth 57 debts owed lower 113 creditors previously hoped receive creditors parmalat main operating company likely see percentage debt receive fall 73 69 several former top parmalat executives investigation fraud scandal lawmakers wednesday night enrico bondi turnaround specialist appointed italian government parmalats chief executive spoke positively company closeddoor hearing chamber deputies industry commission bondi supplied us elements positive results industrial positions history debt find point solution parmalat groups quotation market july italian news agency apcom quoted several lawmakers saying statement<br><br><strong>Predicted Summary</strong><br>microsoft trailing google google google google users users users users users users users users users users users users users users users users users users users users users users users users users users users users users users users users users users users users users users users users sites sites sites sites sites google google users users users users users users sites sites sites sites sites sites sites sites sites sites sites sites sites sites sites sites sites sites sites sites sites sites"
      ],
      "text/plain": [
       "<IPython.core.display.HTML object>"
      ]
     },
     "metadata": {},
     "output_type": "display_data"
    }
   ],
   "source": [
    "# Explainability\n",
    "match = display_string_matching(dtf_test[\"text_clean\"][33], predicted[1], both=True, sentences=True, \n",
    "                                titles=[\"Full Text\", \"Predicted Summary\"])\n",
    "\n",
    "from IPython.core.display import display, HTML\n",
    "display(HTML(match))"
   ]
  },
  {
   "cell_type": "markdown",
   "metadata": {},
   "source": [
    "### 5 - Model (Abstractive: Language model)"
   ]
  },
  {
   "cell_type": "code",
   "execution_count": 96,
   "metadata": {},
   "outputs": [],
   "source": [
    "# Test (no Train)\n",
    "predicted = bart(corpus=[dtf_test[\"text\"]], ratio=ratio)\n",
    "predicted = predicted[0]"
   ]
  },
  {
   "cell_type": "code",
   "execution_count": 97,
   "metadata": {},
   "outputs": [
    {
     "name": "stdout",
     "output_type": "stream",
     "text": [
      "rouge1: 0.39 | rouge2: 0.15 | rougeL: 0.15 --> avg rouge: 0.31\n"
     ]
    }
   ],
   "source": [
    "# Evaluate\n",
    "evaluate_summary(y_test, predicted)"
   ]
  },
  {
   "cell_type": "code",
   "execution_count": 98,
   "metadata": {},
   "outputs": [
    {
     "data": {
      "text/html": [
       "<strong>Real Summary</strong><br>The plan is likely to give creditors of Parmalat Finanziaria shares worth about 5.7% of the debts they are owed. Creditors of Parmalat, the main operating company, are likely to see the percentage of debt they receive fall from 7.3% to 6.9%. As part of the re-listing on the Italian stock exchange, creditors' debts are expected to be converted into shares through two new share issues amounting to more than 2bn euros. In a statement issued on Wednesday night, Parmalat Finanziaria detailed administrators' latest plans for re-listing the shares of the group. Parmalat, the Italian dairy company which went bust after an accounting scandal, hopes to be back on the Italian stock exchange in July.<br><br><strong>Predicted Summary</strong><br> Parmalat went bust in 2003 after revealing debts of 14bn euros ($18.34bn; £9.6bn) The dairy firm gained protection from creditors in 2003. Creditors' debts are expected to be converted into shares through two new share issues. The company's creditors will be asked to vote on the plan later this year. Lawmakers say turnaround specialist Enrico Bondi spoke positively about the company during a closed-door hearing of the Chamber of Deputies industry commission. Several former top executives are under investigation for the fraud scandal at the dairy firm.,"
      ],
      "text/plain": [
       "<IPython.core.display.HTML object>"
      ]
     },
     "metadata": {},
     "output_type": "display_data"
    }
   ],
   "source": [
    "# Compare y_test and predicted\n",
    "match = display_string_matching(y_test, predicted, both=True, sentences=True, \n",
    "                                titles=[\"Real Summary\", \"Predicted Summary\"])\n",
    "\n",
    "from IPython.core.display import display, HTML\n",
    "display(HTML(match))"
   ]
  },
  {
   "cell_type": "code",
   "execution_count": 99,
   "metadata": {},
   "outputs": [
    {
     "data": {
      "text/html": [
       "<strong>Full Text</strong><br>Parmalat to return to stockmarket Parmalat, the Italian dairy company which went bust after an accounting scandal, hopes to be back on the Italian stock exchange in July. The firm gained protection from creditors in 2003 after revealing debts of 14bn euros ($18.34bn; £9.6bn). This was eight times higher than it had previously stated. In a statement issued on Wednesday night, Parmalat Finanziaria detailed administrators' latest plans for re-listing the shares of the group. As part of the re-listing on the Italian stock exchange, creditors' debts are expected to be converted into shares through two new share issues amounting to more than 2bn euros. <span style=\"background-color:rgba(255,215,0,0.3);\">The company's creditors will be asked to vote on the plan later this year.</span> The plan is likely to give creditors of Parmalat Finanziaria shares worth about 5.7% of the debts they are owed. This is lower than the 11.3% creditors previously hoped to receive. Creditors of Parmalat, the main operating company, are likely to see the percentage of debt they receive fall from 7.3% to 6.9%. Several former top Parmalat executives are under investigation for the fraud scandal. Lawmakers said on Wednesday night Enrico Bondi, the turnaround specialist appointed by the Italian government as Parmalat's chief executive, spoke positively about the company during a closed-door hearing of the Chamber of Deputies industry commission. \"Bondi supplied us with elements of positive results on the industrial positions and on the history of debt which will find a point of solution through the Parmalat group's quotation on the market in July,\" Italian news agency Apcom quoted several lawmakers as saying in a statement.<br><br><strong>Predicted Summary</strong><br> Parmalat went bust in 2003 after revealing debts of 14bn euros ($18.34bn; £9.6bn) The dairy firm gained protection from creditors in 2003. Creditors' debts are expected to be converted into shares through two new share issues. The company's creditors will be asked to vote on the plan later this year. Lawmakers say turnaround specialist Enrico Bondi spoke positively about the company during a closed-door hearing of the Chamber of Deputies industry commission. Several former top executives are under investigation for the fraud scandal at the dairy firm.,"
      ],
      "text/plain": [
       "<IPython.core.display.HTML object>"
      ]
     },
     "metadata": {},
     "output_type": "display_data"
    }
   ],
   "source": [
    "# Explainability\n",
    "match = display_string_matching(dtf_test[\"text_clean\"], predicted, both=True, sentences=True, \n",
    "                                titles=[\"Full Text\", \"Predicted Summary\"])\n",
    "\n",
    "from IPython.core.display import display, HTML\n",
    "display(HTML(match))"
   ]
  }
 ],
 "metadata": {
  "kernelspec": {
   "display_name": "Python 3",
   "language": "python",
   "name": "python3"
  },
  "language_info": {
   "codemirror_mode": {
    "name": "ipython",
    "version": 3
   },
   "file_extension": ".py",
   "mimetype": "text/x-python",
   "name": "python",
   "nbconvert_exporter": "python",
   "pygments_lexer": "ipython3",
   "version": "3.6.12"
  }
 },
 "nbformat": 4,
 "nbformat_minor": 4
}
